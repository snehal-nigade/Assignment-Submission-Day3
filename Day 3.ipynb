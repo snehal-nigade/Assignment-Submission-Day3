{
 "cells": [
  {
   "cell_type": "markdown",
   "metadata": {},
   "source": [
    "# Question 1"
   ]
  },
  {
   "cell_type": "markdown",
   "metadata": {},
   "source": [
    "Create a numpy array starting from 2 till 50 with a stepsize of 3.\n"
   ]
  },
  {
   "cell_type": "code",
   "execution_count": 1,
   "metadata": {},
   "outputs": [
    {
     "name": "stdout",
     "output_type": "stream",
     "text": [
      "[ 2  5  8 11 14 17 20 23 26 29 32 35 38 41 44 47]\n"
     ]
    }
   ],
   "source": [
    "import numpy as np\n",
    "arr = np.arange(2 , 50 , 3)\n",
    "print(arr)"
   ]
  },
  {
   "cell_type": "markdown",
   "metadata": {},
   "source": [
    "# Question 2"
   ]
  },
  {
   "cell_type": "raw",
   "metadata": {},
   "source": [
    "Accept two lists of 5 elements each from the user.\n",
    "Convert them to numpy arrays. Concatenate these arrays and print it. Also sort these arrays and print it.\n"
   ]
  },
  {
   "cell_type": "code",
   "execution_count": 38,
   "metadata": {},
   "outputs": [
    {
     "name": "stdout",
     "output_type": "stream",
     "text": [
      "Enter  elements for list1\n",
      "1\n",
      "2\n",
      "3\n",
      "6\n",
      "7\n",
      "\n",
      " [1, 2, 3, 6, 7]\n",
      "<class 'list'>\n",
      "Enter elements for list2\n",
      "5\n",
      "6\n",
      "7\n",
      "8\n",
      "4\n",
      "\n",
      " [5, 6, 7, 8, 4]\n",
      "<class 'list'>\n",
      "\n",
      " Converting List into Array\n",
      "\n",
      " Array 1      [1 2 3 6 7]\n",
      "<class 'numpy.ndarray'>\n",
      "\n",
      " Array 2      [5 6 7 8 4]\n",
      "<class 'numpy.ndarray'>\n",
      "\n",
      " Concatenetion of Two Array\n",
      "[1 2 3 6 7 5 6 7 8 4]\n",
      "\n",
      " Sorting of Array \n",
      "[1 2 3 4 5 6 6 7 7 8]\n"
     ]
    }
   ],
   "source": [
    "### Accept first list from user\n",
    "list1 = []\n",
    "i=5\n",
    "print(\"Enter  elements for list1\")\n",
    "while i>=1:\n",
    "        n=int(input())\n",
    "        i=i-1\n",
    "        list1.append(n)\n",
    "print(\"\\n\",list1) \n",
    "\n",
    "print(type(list1))\n",
    "# Accept 2 list from user\n",
    "\n",
    "list2 = []\n",
    "i=5\n",
    "print(\"Enter elements for list2\")\n",
    "while i>=1:\n",
    "        n=int(input())\n",
    "        i=i-1\n",
    "        list2.append(n)\n",
    "print(\"\\n\",list2) \n",
    "\n",
    "\n",
    "print(type(list2))\n",
    "\n",
    "# Conver list into Array\n",
    "print(\"\\n Converting List into Array\")\n",
    "Arr1 = (np.array(list1))\n",
    "Arr2 = (np.array(list2))\n",
    "\n",
    "print(\"\\n Array 1     \",Arr1)  \n",
    "print(type(Arr1))\n",
    "\n",
    "print(\"\\n Array 2     \",Arr2)\n",
    "print(type(Arr2))\n",
    "\n",
    "print(\"\\n Concatenetion of Two Array\")\n",
    "Arr3 = np.concatenate((Arr1,Arr2))  #  Concatenete Array\n",
    "print(Arr3)\n",
    "\n",
    "print(\"\\n Sorting of Array \")\n",
    "print(np.sort(Arr3))         # Sorting of specific Array\n",
    "\n"
   ]
  },
  {
   "cell_type": "markdown",
   "metadata": {},
   "source": [
    "# Question 3"
   ]
  },
  {
   "cell_type": "raw",
   "metadata": {},
   "source": [
    "Write a code snippet to find the dimensions of a ndarray and its size.\n"
   ]
  },
  {
   "cell_type": "code",
   "execution_count": 3,
   "metadata": {},
   "outputs": [
    {
     "data": {
      "text/plain": [
       "array([[1, 2, 3],\n",
       "       [4, 5, 6]])"
      ]
     },
     "execution_count": 3,
     "metadata": {},
     "output_type": "execute_result"
    }
   ],
   "source": [
    "Arr1 = np.array([[1,2,3],[4,5,6]])\n",
    "Arr1"
   ]
  },
  {
   "cell_type": "code",
   "execution_count": 4,
   "metadata": {},
   "outputs": [
    {
     "name": "stdout",
     "output_type": "stream",
     "text": [
      "No. of Dimension:  2\n"
     ]
    }
   ],
   "source": [
    "# Dimension of ndarray\n",
    "print(\"No. of Dimension: \" , Arr1.ndim)"
   ]
  },
  {
   "cell_type": "code",
   "execution_count": 5,
   "metadata": {},
   "outputs": [
    {
     "name": "stdout",
     "output_type": "stream",
     "text": [
      "Size of Array 6\n"
     ]
    }
   ],
   "source": [
    "# Size of Array\n",
    "print(\"Size of Array\", Arr1.size)"
   ]
  },
  {
   "cell_type": "markdown",
   "metadata": {},
   "source": [
    "# Question 4"
   ]
  },
  {
   "cell_type": "raw",
   "metadata": {},
   "source": [
    "How to convert a 1D array into a 2D array? Demonstrate with the help of a code snippet\n",
    "Hint: np.newaxis, np.expand_dims"
   ]
  },
  {
   "cell_type": "code",
   "execution_count": 9,
   "metadata": {},
   "outputs": [
    {
     "name": "stdout",
     "output_type": "stream",
     "text": [
      "[1 2 3 4]\n",
      "Dimension 1\n"
     ]
    }
   ],
   "source": [
    "arr_1d = np.array([1,2,3,4]) # 1D Array\n",
    "print(arr_1d)\n",
    "print(\"Dimension\",arr_1d.ndim)"
   ]
  },
  {
   "cell_type": "code",
   "execution_count": 10,
   "metadata": {},
   "outputs": [
    {
     "name": "stdout",
     "output_type": "stream",
     "text": [
      "[[1 2]\n",
      " [3 4]]\n",
      "Dimension 2\n"
     ]
    }
   ],
   "source": [
    "# Coverting 1D Array into 2D Array\n",
    "convert_to_2d = np.reshape(arr_1d,(2,2))\n",
    "print(convert_to_2d)\n",
    "print(\"Dimension\",convert_to_2d.ndim)"
   ]
  },
  {
   "cell_type": "markdown",
   "metadata": {},
   "source": [
    "# Question 5"
   ]
  },
  {
   "cell_type": "raw",
   "metadata": {},
   "source": [
    "Consider two square numpy arrays. Stack them vertically and horizontally.\n",
    "Hint: Use vstack(), hstack()"
   ]
  },
  {
   "cell_type": "code",
   "execution_count": 28,
   "metadata": {},
   "outputs": [
    {
     "name": "stdout",
     "output_type": "stream",
     "text": [
      "\n",
      " Array A\n",
      "\n",
      " [[1 2 3]\n",
      " [4 5 6]\n",
      " [6 7 8]]\n",
      "\n",
      " Array B      [1 2 3 3]\n"
     ]
    }
   ],
   "source": [
    "A = np.array([[1,2,3],[4,5,6],[6,7,8]])\n",
    "B = np.array([1,2,3,3])\n",
    "print(\"\\n Array A\")\n",
    "print(\"\\n\",A)\n",
    "\n",
    "print(\"\\n Array B     \",B)"
   ]
  },
  {
   "cell_type": "code",
   "execution_count": 29,
   "metadata": {},
   "outputs": [
    {
     "data": {
      "text/plain": [
       "array([[1, 2, 3],\n",
       "       [4, 5, 6],\n",
       "       [6, 7, 8]])"
      ]
     },
     "execution_count": 29,
     "metadata": {},
     "output_type": "execute_result"
    }
   ],
   "source": [
    "np.vstack((A))  # Stack  A Vertically"
   ]
  },
  {
   "cell_type": "code",
   "execution_count": 30,
   "metadata": {},
   "outputs": [
    {
     "data": {
      "text/plain": [
       "array([1, 2, 3, 4, 5, 6, 6, 7, 8])"
      ]
     },
     "execution_count": 30,
     "metadata": {},
     "output_type": "execute_result"
    }
   ],
   "source": [
    "\n",
    "np.hstack((A)) # stack A Horizontally"
   ]
  },
  {
   "cell_type": "code",
   "execution_count": 31,
   "metadata": {},
   "outputs": [
    {
     "data": {
      "text/plain": [
       "array([[1],\n",
       "       [2],\n",
       "       [3],\n",
       "       [3]])"
      ]
     },
     "execution_count": 31,
     "metadata": {},
     "output_type": "execute_result"
    }
   ],
   "source": [
    "np.vstack((B))  # Stack B Vertically\n"
   ]
  },
  {
   "cell_type": "code",
   "execution_count": 32,
   "metadata": {},
   "outputs": [
    {
     "data": {
      "text/plain": [
       "array([1, 2, 3, 3])"
      ]
     },
     "execution_count": 32,
     "metadata": {},
     "output_type": "execute_result"
    }
   ],
   "source": [
    "np.hstack((B))  # Stack B horizontally"
   ]
  },
  {
   "cell_type": "markdown",
   "metadata": {},
   "source": [
    "# Question 6"
   ]
  },
  {
   "cell_type": "raw",
   "metadata": {},
   "source": [
    "How to get unique items and counts of unique items?"
   ]
  },
  {
   "cell_type": "code",
   "execution_count": 36,
   "metadata": {},
   "outputs": [
    {
     "name": "stdout",
     "output_type": "stream",
     "text": [
      "Given Array Are\n",
      "\n",
      " [1 2 3 4 4 4 4 3 3 2 7 8 6 5 3]\n",
      "\n",
      "Number  Of Unique Item : 8\n",
      "\n",
      "Unique Numbers Are    [1, 2, 3, 4, 7, 8, 6, 5]\n"
     ]
    }
   ],
   "source": [
    "print(\"Given Array Are\")\n",
    "list1 = [1,2,3,4,4,4,4,3,3,2,7,8,6,5,3]\n",
    "list2 = (np.array(list1))\n",
    "print(\"\\n\",list2)\n",
    "l1 = []\n",
    "count = 0\n",
    "for item in list2:\n",
    "    if item not in l1:\n",
    "        count += 1\n",
    "        l1.append(item)\n",
    "        \n",
    "print(\"\\nNumber  Of Unique Item :\", count)\n",
    "print(\"\\nUnique Numbers Are   \",l1)\n",
    "        "
   ]
  },
  {
   "cell_type": "code",
   "execution_count": null,
   "metadata": {},
   "outputs": [],
   "source": []
  }
 ],
 "metadata": {
  "kernelspec": {
   "display_name": "Python 3",
   "language": "python",
   "name": "python3"
  },
  "language_info": {
   "codemirror_mode": {
    "name": "ipython",
    "version": 3
   },
   "file_extension": ".py",
   "mimetype": "text/x-python",
   "name": "python",
   "nbconvert_exporter": "python",
   "pygments_lexer": "ipython3",
   "version": "3.7.3"
  }
 },
 "nbformat": 4,
 "nbformat_minor": 2
}
